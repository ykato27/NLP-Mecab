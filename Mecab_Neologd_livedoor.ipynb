{
  "nbformat": 4,
  "nbformat_minor": 0,
  "metadata": {
    "colab": {
      "name": "Mecab_Neologd_livedoor.ipynb",
      "provenance": [],
      "collapsed_sections": [],
      "include_colab_link": true
    },
    "kernelspec": {
      "name": "python3",
      "display_name": "Python 3"
    }
  },
  "cells": [
    {
      "cell_type": "markdown",
      "metadata": {
        "id": "view-in-github",
        "colab_type": "text"
      },
      "source": [
        "<a href=\"https://colab.research.google.com/github/ykato27/NLP-Mecab/blob/main/Mecab_Neologd_livedoor.ipynb\" target=\"_parent\"><img src=\"https://colab.research.google.com/assets/colab-badge.svg\" alt=\"Open In Colab\"/></a>"
      ]
    },
    {
      "cell_type": "markdown",
      "metadata": {
        "id": "I5UvSa7Je5IO"
      },
      "source": [
        "# MecabとGensim による類似単語検出：Livedoor News を使用"
      ]
    },
    {
      "cell_type": "markdown",
      "metadata": {
        "id": "JlD1ZicLzHn7"
      },
      "source": [
        "Mecabとmecab-ipadic-neologdのインストール： \n",
        "\n",
        "NEologd辞書の追加　:\n",
        "NEologdは、Web上から得た新語に対応しており、毎週更新されるMeCab用のシステム辞書です。\n",
        "\n",
        "mecab-python もインストール\n"
      ]
    },
    {
      "cell_type": "code",
      "metadata": {
        "id": "u76ewinykLfe",
        "colab": {
          "base_uri": "https://localhost:8080/"
        },
        "outputId": "486d3b39-7b56-471b-e303-bde8393e8b26"
      },
      "source": [
        "!apt-get -q -y install sudo file mecab libmecab-dev mecab-ipadic-utf8 git curl python-mecab > /dev/null\n",
        "!git clone --depth 1 https://github.com/neologd/mecab-ipadic-neologd.git > /dev/null \n",
        "!echo yes | mecab-ipadic-neologd/bin/install-mecab-ipadic-neologd -n > /dev/null 2>&1\n",
        "!pip install mecab-python3 > /dev/null"
      ],
      "execution_count": 1,
      "outputs": [
        {
          "output_type": "stream",
          "text": [
            "fatal: destination path 'mecab-ipadic-neologd' already exists and is not an empty directory.\n"
          ],
          "name": "stdout"
        }
      ]
    },
    {
      "cell_type": "markdown",
      "metadata": {
        "id": "IPksPy0RGzR8"
      },
      "source": [
        "mecab-ipadic-neologdが保存されているフォルダーを調べる。"
      ]
    },
    {
      "cell_type": "code",
      "metadata": {
        "id": "Od7tNFDj7rKu",
        "colab": {
          "base_uri": "https://localhost:8080/"
        },
        "outputId": "53b58c8f-a300-4341-e68c-e0867b68b26e"
      },
      "source": [
        "!mecab-config --dicdir"
      ],
      "execution_count": 2,
      "outputs": [
        {
          "output_type": "stream",
          "text": [
            "/usr/lib/x86_64-linux-gnu/mecab/dic\n"
          ],
          "name": "stdout"
        }
      ]
    },
    {
      "cell_type": "code",
      "metadata": {
        "id": "XeDmBFs5emsf",
        "colab": {
          "base_uri": "https://localhost:8080/"
        },
        "outputId": "206fcbd6-b6e6-4c82-b50c-66c0ce828e61"
      },
      "source": [
        "!cat /etc/mecabrc"
      ],
      "execution_count": 3,
      "outputs": [
        {
          "output_type": "stream",
          "text": [
            ";\n",
            "; Configuration file of MeCab\n",
            ";\n",
            "; $Id: mecabrc.in,v 1.3 2006/05/29 15:36:08 taku-ku Exp $;\n",
            ";\n",
            "dicdir = /var/lib/mecab/dic/debian\n",
            "\n",
            "; userdic = /home/foo/bar/user.dic\n",
            "\n",
            "; output-format-type = wakati\n",
            "; input-buffer-size = 8192\n",
            "\n",
            "; node-format = %m\\n\n",
            "; bos-format = %S\\n\n",
            "; eos-format = EOS\\n\n",
            "\n"
          ],
          "name": "stdout"
        }
      ]
    },
    {
      "cell_type": "code",
      "metadata": {
        "id": "v9aJ1h5Lyd7h"
      },
      "source": [
        "# !ln -s /etc/mecabrc /usr/local/etc/mecabrc"
      ],
      "execution_count": 4,
      "outputs": []
    },
    {
      "cell_type": "code",
      "metadata": {
        "id": "3od8IYx_mQZu",
        "colab": {
          "base_uri": "https://localhost:8080/"
        },
        "outputId": "9926c52f-a02f-42b5-ca43-da3dd136c79f"
      },
      "source": [
        "import MeCab\n",
        "sent = \"スマホでインスタが流行っている\" \n",
        "tagger = MeCab.Tagger ()\n",
        "print(tagger.parse(sent))"
      ],
      "execution_count": 5,
      "outputs": [
        {
          "output_type": "stream",
          "text": [
            "スマホ\t名詞,一般,*,*,*,*,*\n",
            "で\t助詞,格助詞,一般,*,*,*,で,デ,デ\n",
            "インスタ\t名詞,一般,*,*,*,*,*\n",
            "が\t助詞,格助詞,一般,*,*,*,が,ガ,ガ\n",
            "流行っ\t動詞,自立,*,*,五段・ラ行,連用タ接続,流行る,ハヤッ,ハヤッ\n",
            "て\t助詞,接続助詞,*,*,*,*,て,テ,テ\n",
            "いる\t動詞,非自立,*,*,一段,基本形,いる,イル,イル\n",
            "EOS\n",
            "\n"
          ],
          "name": "stdout"
        }
      ]
    },
    {
      "cell_type": "markdown",
      "metadata": {
        "id": "xQKNWveP6ADt"
      },
      "source": [
        ""
      ]
    },
    {
      "cell_type": "code",
      "metadata": {
        "id": "rE3f8rUGtZ07",
        "colab": {
          "base_uri": "https://localhost:8080/"
        },
        "outputId": "ec743832-3528-4c8d-92df-e81fcc8f00f4"
      },
      "source": [
        "!echo \"SMAPのキムタクはポケモンに会いに行き、スマホを売るバイトをしている\" | mecab -d /usr/lib/x86_64-linux-gnu/mecab/dic/mecab-ipadic-neologd"
      ],
      "execution_count": 6,
      "outputs": [
        {
          "output_type": "stream",
          "text": [
            "SMAP\t名詞,固有名詞,一般,*,*,*,SMAP,スマップ,スマップ\n",
            "の\t助詞,連体化,*,*,*,*,の,ノ,ノ\n",
            "キムタク\t名詞,固有名詞,一般,*,*,*,キムタク,キムタク,キムタク\n",
            "は\t助詞,係助詞,*,*,*,*,は,ハ,ワ\n",
            "ポケモン\t名詞,固有名詞,一般,*,*,*,Pokemon!,ポケモン,ポケモン\n",
            "に\t助詞,格助詞,一般,*,*,*,に,ニ,ニ\n",
            "会い\t名詞,一般,*,*,*,*,会意,カイイ,カイー\n",
            "に\t助詞,格助詞,一般,*,*,*,に,ニ,ニ\n",
            "行き\t動詞,自立,*,*,五段・カ行促音便,連用形,行く,イキ,イキ\n",
            "、\t記号,読点,*,*,*,*,、,、,、\n",
            "スマホ\t名詞,固有名詞,一般,*,*,*,スマホ,スマホ,スマホ\n",
            "を\t助詞,格助詞,一般,*,*,*,を,ヲ,ヲ\n",
            "売る\t動詞,自立,*,*,五段・ラ行,基本形,売る,ウル,ウル\n",
            "バイト\t名詞,一般,*,*,*,*,バイト,バイト,バイト\n",
            "を\t助詞,格助詞,一般,*,*,*,を,ヲ,ヲ\n",
            "し\t動詞,自立,*,*,サ変・スル,連用形,する,シ,シ\n",
            "て\t助詞,接続助詞,*,*,*,*,て,テ,テ\n",
            "いる\t動詞,非自立,*,*,一段,基本形,いる,イル,イル\n",
            "EOS\n"
          ],
          "name": "stdout"
        }
      ]
    },
    {
      "cell_type": "markdown",
      "metadata": {
        "id": "dUUoeiX4yjkz"
      },
      "source": [
        "ここからLivedoor News を使用しますので、以下のようにファイルをダウンロードして配置してください。\n",
        "\n",
        "/My Drive/NLP/livedoor-news-data/topic-news.xml \n",
        "\n",
        "この文書が入ったMy Drive にmountします。"
      ]
    },
    {
      "cell_type": "code",
      "metadata": {
        "id": "Fd42zsR-YI1A",
        "colab": {
          "base_uri": "https://localhost:8080/"
        },
        "outputId": "f55c2697-ba4b-4675-c6f7-473935453a12"
      },
      "source": [
        "! git clone https://github.com/mashyko/NLP_Mecab\n",
        "%cd NLP_Mecab\n",
        "!ls "
      ],
      "execution_count": 7,
      "outputs": [
        {
          "output_type": "stream",
          "text": [
            "fatal: destination path 'NLP_Mecab' already exists and is not an empty directory.\n",
            "/content/NLP_Mecab\n",
            "corpora\t\t      gensim_tutor_English.ipynb  mecab_janome_BOW.ipynb\n",
            "datasets\t      livedoor-news-data\t  Mecab_Neologd_livedoor.ipynb\n",
            "fasttext_intro.ipynb  Livedoor-text\t\t  mecab_python.ipynb\n",
            "Gensim_doc2vec.ipynb  MeCab_1.ipynb\t\t  README.md\n",
            "gensim_topic.ipynb    Mecab_Intro.ipynb\n"
          ],
          "name": "stdout"
        }
      ]
    },
    {
      "cell_type": "markdown",
      "metadata": {
        "id": "hf6VtawdsZzK"
      },
      "source": [
        "分かち書きファイルの作成と保存"
      ]
    },
    {
      "cell_type": "code",
      "metadata": {
        "id": "7KlA2W80KvFJ"
      },
      "source": [
        "!mecab  -Owakati ./livedoor-news-data/topic-news.txt -o ./livedoor-news-data/topic-wakati.txt"
      ],
      "execution_count": 8,
      "outputs": []
    },
    {
      "cell_type": "markdown",
      "metadata": {
        "id": "BziNsMXetTmf"
      },
      "source": [
        "gemsim向けのトークン化されたファイルの作成"
      ]
    },
    {
      "cell_type": "code",
      "metadata": {
        "id": "mciS_QRgrFbp"
      },
      "source": [
        "import MeCab\n",
        "tagger = MeCab.Tagger('-F\\s%f[6] -d /usr/lib/x86_64-linux-gnu/mecab/dic/mecab-ipadic-neologd')\n",
        "\n",
        "raw = open('./livedoor-news-data/topic-news.xml', 'r')\n",
        "text = open('./livedoor-news-data/topic-news_text.xml', 'w')\n",
        "\n",
        "line = raw.readline()\n",
        "while line:\n",
        "    result = tagger.parse(line)\n",
        "    text.write(result[1:]) # skip first \\s\n",
        "    line = raw.readline()\n",
        "\n",
        "raw.close()\n",
        "text.close()"
      ],
      "execution_count": 9,
      "outputs": []
    },
    {
      "cell_type": "code",
      "metadata": {
        "id": "K9WnQTExV3Pj",
        "colab": {
          "base_uri": "https://localhost:8080/"
        },
        "outputId": "530825da-2827-4674-bf06-1b6d684c677a"
      },
      "source": [
        "!ls livedoor-news-data/"
      ],
      "execution_count": 10,
      "outputs": [
        {
          "output_type": "stream",
          "text": [
            "topic-news.model     topic-news.txt  topic-wakati.txt\n",
            "topic-news_text.xml  topic-news.xml\n"
          ],
          "name": "stdout"
        }
      ]
    },
    {
      "cell_type": "markdown",
      "metadata": {
        "id": "TSXkq4Oly4NQ"
      },
      "source": [
        "Gensimのインストール"
      ]
    },
    {
      "cell_type": "code",
      "metadata": {
        "id": "loyBHfB1xLl8",
        "colab": {
          "base_uri": "https://localhost:8080/"
        },
        "outputId": "adfa0fb2-dbb6-4315-b091-3e7358de3616"
      },
      "source": [
        "!pip install gensim"
      ],
      "execution_count": 11,
      "outputs": [
        {
          "output_type": "stream",
          "text": [
            "Requirement already satisfied: gensim in /usr/local/lib/python3.7/dist-packages (3.6.0)\n",
            "Requirement already satisfied: numpy>=1.11.3 in /usr/local/lib/python3.7/dist-packages (from gensim) (1.19.5)\n",
            "Requirement already satisfied: smart-open>=1.2.1 in /usr/local/lib/python3.7/dist-packages (from gensim) (5.1.0)\n",
            "Requirement already satisfied: six>=1.5.0 in /usr/local/lib/python3.7/dist-packages (from gensim) (1.15.0)\n",
            "Requirement already satisfied: scipy>=0.18.1 in /usr/local/lib/python3.7/dist-packages (from gensim) (1.4.1)\n"
          ],
          "name": "stdout"
        }
      ]
    },
    {
      "cell_type": "markdown",
      "metadata": {
        "id": "AmWvx2UltqRO"
      },
      "source": [
        "word2vec による辞書の作成"
      ]
    },
    {
      "cell_type": "code",
      "metadata": {
        "id": "McGpM4XQvwIK",
        "colab": {
          "base_uri": "https://localhost:8080/"
        },
        "outputId": "76df4856-d1f8-4415-da69-0d65961b8bda"
      },
      "source": [
        "from gensim.models import word2vec\n",
        "import logging\n",
        "\n",
        "logging.basicConfig(format='%(asctime)s : %(levelname)s : %(message)s', level=logging.INFO)\n",
        "\n",
        "sentences = word2vec.LineSentence('./livedoor-news-data/topic-news_text.xml')\n",
        "model = word2vec.Word2Vec(sentences,\n",
        "                          sg=1,\n",
        "                          size=100,\n",
        "                          min_count=1,\n",
        "                          window=10,\n",
        "                          hs=1,\n",
        "                          negative=0)\n",
        "model.save('./livedoor-news-data/topic-news.model')\n"
      ],
      "execution_count": 12,
      "outputs": [
        {
          "output_type": "stream",
          "text": [
            "2021-07-05 13:16:05,235 : INFO : collecting all words and their counts\n",
            "2021-07-05 13:16:05,237 : INFO : PROGRESS: at sentence #0, processed 0 words, keeping 0 word types\n",
            "2021-07-05 13:16:05,286 : INFO : PROGRESS: at sentence #10000, processed 10576 words, keeping 4912 word types\n",
            "2021-07-05 13:16:05,318 : INFO : collected 8252 word types from a corpus of 17966 raw words and 16734 sentences\n",
            "2021-07-05 13:16:05,322 : INFO : Loading a fresh vocabulary\n",
            "2021-07-05 13:16:05,337 : INFO : effective_min_count=1 retains 8252 unique words (100% of original 8252, drops 0)\n",
            "2021-07-05 13:16:05,340 : INFO : effective_min_count=1 leaves 17966 word corpus (100% of original 17966, drops 0)\n",
            "2021-07-05 13:16:05,364 : INFO : deleting the raw counts dictionary of 8252 items\n",
            "2021-07-05 13:16:05,367 : INFO : sample=0.001 downsamples 13 most-common words\n",
            "2021-07-05 13:16:05,370 : INFO : downsampling leaves estimated 10314 word corpus (57.4% of prior 17966)\n",
            "2021-07-05 13:16:05,375 : INFO : constructing a huffman tree from 8252 words\n",
            "2021-07-05 13:16:05,577 : INFO : built huffman tree with maximum node depth 15\n",
            "2021-07-05 13:16:05,580 : INFO : estimated required memory for 8252 words and 100 dimensions: 12378000 bytes\n",
            "2021-07-05 13:16:05,583 : INFO : resetting layer weights\n",
            "2021-07-05 13:16:07,019 : INFO : training model with 3 workers on 8252 vocabulary and 100 features, using sg=1 hs=1 sample=0.001 negative=0 window=10\n",
            "2021-07-05 13:16:07,100 : INFO : worker thread finished; awaiting finish of 2 more threads\n",
            "2021-07-05 13:16:07,106 : INFO : worker thread finished; awaiting finish of 1 more threads\n",
            "2021-07-05 13:16:07,111 : INFO : worker thread finished; awaiting finish of 0 more threads\n",
            "2021-07-05 13:16:07,112 : INFO : EPOCH - 1 : training on 17966 raw words (10305 effective words) took 0.1s, 117972 effective words/s\n",
            "2021-07-05 13:16:07,197 : INFO : worker thread finished; awaiting finish of 2 more threads\n",
            "2021-07-05 13:16:07,204 : INFO : worker thread finished; awaiting finish of 1 more threads\n",
            "2021-07-05 13:16:07,206 : INFO : worker thread finished; awaiting finish of 0 more threads\n",
            "2021-07-05 13:16:07,207 : INFO : EPOCH - 2 : training on 17966 raw words (10343 effective words) took 0.1s, 116964 effective words/s\n",
            "2021-07-05 13:16:07,293 : INFO : worker thread finished; awaiting finish of 2 more threads\n",
            "2021-07-05 13:16:07,295 : INFO : worker thread finished; awaiting finish of 1 more threads\n",
            "2021-07-05 13:16:07,305 : INFO : worker thread finished; awaiting finish of 0 more threads\n",
            "2021-07-05 13:16:07,306 : INFO : EPOCH - 3 : training on 17966 raw words (10257 effective words) took 0.1s, 111259 effective words/s\n",
            "2021-07-05 13:16:07,442 : INFO : worker thread finished; awaiting finish of 2 more threads\n",
            "2021-07-05 13:16:07,450 : INFO : worker thread finished; awaiting finish of 1 more threads\n",
            "2021-07-05 13:16:07,456 : INFO : worker thread finished; awaiting finish of 0 more threads\n",
            "2021-07-05 13:16:07,460 : INFO : EPOCH - 4 : training on 17966 raw words (10289 effective words) took 0.1s, 69699 effective words/s\n",
            "2021-07-05 13:16:07,547 : INFO : worker thread finished; awaiting finish of 2 more threads\n",
            "2021-07-05 13:16:07,551 : INFO : worker thread finished; awaiting finish of 1 more threads\n",
            "2021-07-05 13:16:07,560 : INFO : worker thread finished; awaiting finish of 0 more threads\n",
            "2021-07-05 13:16:07,561 : INFO : EPOCH - 5 : training on 17966 raw words (10303 effective words) took 0.1s, 112765 effective words/s\n",
            "2021-07-05 13:16:07,562 : INFO : training on a 89830 raw words (51497 effective words) took 0.5s, 95151 effective words/s\n",
            "2021-07-05 13:16:07,563 : WARNING : under 10 jobs per worker: consider setting a smaller `batch_words' for smoother alpha decay\n",
            "2021-07-05 13:16:07,565 : INFO : saving Word2Vec object under ./livedoor-news-data/topic-news.model, separately None\n",
            "2021-07-05 13:16:07,566 : INFO : not storing attribute vectors_norm\n",
            "2021-07-05 13:16:07,568 : INFO : not storing attribute cum_table\n",
            "2021-07-05 13:16:07,719 : INFO : saved ./livedoor-news-data/topic-news.model\n"
          ],
          "name": "stderr"
        }
      ]
    },
    {
      "cell_type": "markdown",
      "metadata": {
        "id": "w8zGKq7mrJVC"
      },
      "source": [
        "類似の単語を20個検出します。ここでは、「嵐」"
      ]
    },
    {
      "cell_type": "code",
      "metadata": {
        "id": "fCcSR1y1u3Ju",
        "colab": {
          "base_uri": "https://localhost:8080/",
          "height": 484
        },
        "outputId": "83e9428d-8404-4e84-ce42-b2a68e6b8b5f"
      },
      "source": [
        "model = word2vec.Word2Vec.load('./livedoor-news-data/topic-news.model')\n",
        "model.wv.most_similar(positive=['嵐'], topn=20)"
      ],
      "execution_count": 21,
      "outputs": [
        {
          "output_type": "stream",
          "text": [
            "2021-07-05 13:21:34,712 : INFO : loading Word2Vec object from ./livedoor-news-data/topic-news.model\n",
            "2021-07-05 13:21:34,873 : INFO : loading wv recursively from ./livedoor-news-data/topic-news.model.wv.* with mmap=None\n",
            "2021-07-05 13:21:34,875 : INFO : setting ignored attribute vectors_norm to None\n",
            "2021-07-05 13:21:34,877 : INFO : loading vocabulary recursively from ./livedoor-news-data/topic-news.model.vocabulary.* with mmap=None\n",
            "2021-07-05 13:21:34,879 : INFO : loading trainables recursively from ./livedoor-news-data/topic-news.model.trainables.* with mmap=None\n",
            "2021-07-05 13:21:34,881 : INFO : setting ignored attribute cum_table to None\n",
            "2021-07-05 13:21:34,883 : INFO : loaded ./livedoor-news-data/topic-news.model\n",
            "2021-07-05 13:21:34,884 : INFO : precomputing L2-norms of word weight vectors\n"
          ],
          "name": "stderr"
        },
        {
          "output_type": "error",
          "ename": "KeyError",
          "evalue": "ignored",
          "traceback": [
            "\u001b[0;31m---------------------------------------------------------------------------\u001b[0m",
            "\u001b[0;31mKeyError\u001b[0m                                  Traceback (most recent call last)",
            "\u001b[0;32m<ipython-input-21-c6bb5eb99078>\u001b[0m in \u001b[0;36m<module>\u001b[0;34m()\u001b[0m\n\u001b[1;32m      1\u001b[0m \u001b[0mmodel\u001b[0m \u001b[0;34m=\u001b[0m \u001b[0mword2vec\u001b[0m\u001b[0;34m.\u001b[0m\u001b[0mWord2Vec\u001b[0m\u001b[0;34m.\u001b[0m\u001b[0mload\u001b[0m\u001b[0;34m(\u001b[0m\u001b[0;34m'./livedoor-news-data/topic-news.model'\u001b[0m\u001b[0;34m)\u001b[0m\u001b[0;34m\u001b[0m\u001b[0;34m\u001b[0m\u001b[0m\n\u001b[0;32m----> 2\u001b[0;31m \u001b[0mmodel\u001b[0m\u001b[0;34m.\u001b[0m\u001b[0mwv\u001b[0m\u001b[0;34m.\u001b[0m\u001b[0mmost_similar\u001b[0m\u001b[0;34m(\u001b[0m\u001b[0mpositive\u001b[0m\u001b[0;34m=\u001b[0m\u001b[0;34m'嵐'\u001b[0m\u001b[0;34m,\u001b[0m \u001b[0mtopn\u001b[0m\u001b[0;34m=\u001b[0m\u001b[0;36m10\u001b[0m\u001b[0;34m)\u001b[0m\u001b[0;34m\u001b[0m\u001b[0;34m\u001b[0m\u001b[0m\n\u001b[0m",
            "\u001b[0;32m/usr/local/lib/python3.7/dist-packages/gensim/models/keyedvectors.py\u001b[0m in \u001b[0;36mmost_similar\u001b[0;34m(self, positive, negative, topn, restrict_vocab, indexer)\u001b[0m\n\u001b[1;32m    529\u001b[0m                 \u001b[0mmean\u001b[0m\u001b[0;34m.\u001b[0m\u001b[0mappend\u001b[0m\u001b[0;34m(\u001b[0m\u001b[0mweight\u001b[0m \u001b[0;34m*\u001b[0m \u001b[0mword\u001b[0m\u001b[0;34m)\u001b[0m\u001b[0;34m\u001b[0m\u001b[0;34m\u001b[0m\u001b[0m\n\u001b[1;32m    530\u001b[0m             \u001b[0;32melse\u001b[0m\u001b[0;34m:\u001b[0m\u001b[0;34m\u001b[0m\u001b[0;34m\u001b[0m\u001b[0m\n\u001b[0;32m--> 531\u001b[0;31m                 \u001b[0mmean\u001b[0m\u001b[0;34m.\u001b[0m\u001b[0mappend\u001b[0m\u001b[0;34m(\u001b[0m\u001b[0mweight\u001b[0m \u001b[0;34m*\u001b[0m \u001b[0mself\u001b[0m\u001b[0;34m.\u001b[0m\u001b[0mword_vec\u001b[0m\u001b[0;34m(\u001b[0m\u001b[0mword\u001b[0m\u001b[0;34m,\u001b[0m \u001b[0muse_norm\u001b[0m\u001b[0;34m=\u001b[0m\u001b[0;32mTrue\u001b[0m\u001b[0;34m)\u001b[0m\u001b[0;34m)\u001b[0m\u001b[0;34m\u001b[0m\u001b[0;34m\u001b[0m\u001b[0m\n\u001b[0m\u001b[1;32m    532\u001b[0m                 \u001b[0;32mif\u001b[0m \u001b[0mword\u001b[0m \u001b[0;32min\u001b[0m \u001b[0mself\u001b[0m\u001b[0;34m.\u001b[0m\u001b[0mvocab\u001b[0m\u001b[0;34m:\u001b[0m\u001b[0;34m\u001b[0m\u001b[0;34m\u001b[0m\u001b[0m\n\u001b[1;32m    533\u001b[0m                     \u001b[0mall_words\u001b[0m\u001b[0;34m.\u001b[0m\u001b[0madd\u001b[0m\u001b[0;34m(\u001b[0m\u001b[0mself\u001b[0m\u001b[0;34m.\u001b[0m\u001b[0mvocab\u001b[0m\u001b[0;34m[\u001b[0m\u001b[0mword\u001b[0m\u001b[0;34m]\u001b[0m\u001b[0;34m.\u001b[0m\u001b[0mindex\u001b[0m\u001b[0;34m)\u001b[0m\u001b[0;34m\u001b[0m\u001b[0;34m\u001b[0m\u001b[0m\n",
            "\u001b[0;32m/usr/local/lib/python3.7/dist-packages/gensim/models/keyedvectors.py\u001b[0m in \u001b[0;36mword_vec\u001b[0;34m(self, word, use_norm)\u001b[0m\n\u001b[1;32m    450\u001b[0m             \u001b[0;32mreturn\u001b[0m \u001b[0mresult\u001b[0m\u001b[0;34m\u001b[0m\u001b[0;34m\u001b[0m\u001b[0m\n\u001b[1;32m    451\u001b[0m         \u001b[0;32melse\u001b[0m\u001b[0;34m:\u001b[0m\u001b[0;34m\u001b[0m\u001b[0;34m\u001b[0m\u001b[0m\n\u001b[0;32m--> 452\u001b[0;31m             \u001b[0;32mraise\u001b[0m \u001b[0mKeyError\u001b[0m\u001b[0;34m(\u001b[0m\u001b[0;34m\"word '%s' not in vocabulary\"\u001b[0m \u001b[0;34m%\u001b[0m \u001b[0mword\u001b[0m\u001b[0;34m)\u001b[0m\u001b[0;34m\u001b[0m\u001b[0;34m\u001b[0m\u001b[0m\n\u001b[0m\u001b[1;32m    453\u001b[0m \u001b[0;34m\u001b[0m\u001b[0m\n\u001b[1;32m    454\u001b[0m     \u001b[0;32mdef\u001b[0m \u001b[0mget_vector\u001b[0m\u001b[0;34m(\u001b[0m\u001b[0mself\u001b[0m\u001b[0;34m,\u001b[0m \u001b[0mword\u001b[0m\u001b[0;34m)\u001b[0m\u001b[0;34m:\u001b[0m\u001b[0;34m\u001b[0m\u001b[0;34m\u001b[0m\u001b[0m\n",
            "\u001b[0;31mKeyError\u001b[0m: \"word '嵐' not in vocabulary\""
          ]
        }
      ]
    },
    {
      "cell_type": "markdown",
      "metadata": {
        "id": "bMr0Ycd_Gkyf"
      },
      "source": [
        "以上"
      ]
    }
  ]
}