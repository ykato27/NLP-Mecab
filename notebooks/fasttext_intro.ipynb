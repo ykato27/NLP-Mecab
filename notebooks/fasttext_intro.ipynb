{
  "nbformat": 4,
  "nbformat_minor": 0,
  "metadata": {
    "colab": {
      "name": "fasttext_intro.ipynb",
      "provenance": [],
      "collapsed_sections": [],
      "include_colab_link": true
    },
    "kernelspec": {
      "name": "python3",
      "display_name": "Python 3"
    },
    "accelerator": "GPU"
  },
  "cells": [
    {
      "cell_type": "markdown",
      "metadata": {
        "id": "view-in-github",
        "colab_type": "text"
      },
      "source": [
        "<a href=\"https://colab.research.google.com/github/ykato27/NLP-Mecab/blob/main/fasttext_intro.ipynb\" target=\"_parent\"><img src=\"https://colab.research.google.com/assets/colab-badge.svg\" alt=\"Open In Colab\"/></a>"
      ]
    },
    {
      "cell_type": "markdown",
      "metadata": {
        "id": "9ipnW8MNXLhM"
      },
      "source": [
        "Text classification: Fasttextを用いたテキスト分類"
      ]
    },
    {
      "cell_type": "markdown",
      "metadata": {
        "id": "-2gu__8ngKcM"
      },
      "source": [
        "# Fasttextのインストール\n",
        "\n",
        "コマンド　./fasttext は機能しないので、使用しません。\n"
      ]
    },
    {
      "cell_type": "code",
      "metadata": {
        "id": "__a4ABQaoyTW",
        "colab": {
          "base_uri": "https://localhost:8080/"
        },
        "outputId": "0fccb77c-d585-4067-e698-45a299ba4079"
      },
      "source": [
        "!git clone https://github.com/facebookresearch/fastText.git\n",
        "!cd fastText\n",
        "!make\n",
        "# for python bindings :\n",
        "!pip install fasttext"
      ],
      "execution_count": 1,
      "outputs": [
        {
          "output_type": "stream",
          "text": [
            "Cloning into 'fastText'...\n",
            "remote: Enumerating objects: 3854, done.\u001b[K\n",
            "remote: Total 3854 (delta 0), reused 0 (delta 0), pack-reused 3854\u001b[K\n",
            "Receiving objects: 100% (3854/3854), 8.22 MiB | 18.39 MiB/s, done.\n",
            "Resolving deltas: 100% (2417/2417), done.\n",
            "make: *** No targets specified and no makefile found.  Stop.\n",
            "Collecting fasttext\n",
            "\u001b[?25l  Downloading https://files.pythonhosted.org/packages/f8/85/e2b368ab6d3528827b147fdb814f8189acc981a4bc2f99ab894650e05c40/fasttext-0.9.2.tar.gz (68kB)\n",
            "\u001b[K     |████████████████████████████████| 71kB 5.6MB/s \n",
            "\u001b[?25hRequirement already satisfied: pybind11>=2.2 in /usr/local/lib/python3.7/dist-packages (from fasttext) (2.6.2)\n",
            "Requirement already satisfied: setuptools>=0.7.0 in /usr/local/lib/python3.7/dist-packages (from fasttext) (57.0.0)\n",
            "Requirement already satisfied: numpy in /usr/local/lib/python3.7/dist-packages (from fasttext) (1.19.5)\n",
            "Building wheels for collected packages: fasttext\n",
            "  Building wheel for fasttext (setup.py) ... \u001b[?25l\u001b[?25hdone\n",
            "  Created wheel for fasttext: filename=fasttext-0.9.2-cp37-cp37m-linux_x86_64.whl size=3096500 sha256=aad293510098905caf2845b4d0d7af11cfa0d1c5786ec6aa35a1e99158b08d44\n",
            "  Stored in directory: /root/.cache/pip/wheels/98/ba/7f/b154944a1cf5a8cee91c154b75231136cc3a3321ab0e30f592\n",
            "Successfully built fasttext\n",
            "Installing collected packages: fasttext\n",
            "Successfully installed fasttext-0.9.2\n"
          ],
          "name": "stdout"
        }
      ]
    },
    {
      "cell_type": "code",
      "metadata": {
        "id": "As22gTeqc7yF",
        "colab": {
          "base_uri": "https://localhost:8080/"
        },
        "outputId": "13ac52a6-02b1-46af-f89a-0914fab5c8e4"
      },
      "source": [
        "import fasttext\n",
        "help(fasttext.FastText)"
      ],
      "execution_count": 2,
      "outputs": [
        {
          "output_type": "stream",
          "text": [
            "Help on module fasttext.FastText in fasttext:\n",
            "\n",
            "NAME\n",
            "    fasttext.FastText\n",
            "\n",
            "DESCRIPTION\n",
            "    # Copyright (c) 2017-present, Facebook, Inc.\n",
            "    # All rights reserved.\n",
            "    #\n",
            "    # This source code is licensed under the MIT license found in the\n",
            "    # LICENSE file in the root directory of this source tree.\n",
            "\n",
            "FUNCTIONS\n",
            "    cbow(*kargs, **kwargs)\n",
            "    \n",
            "    eprint(*args, **kwargs)\n",
            "    \n",
            "    load_model(path)\n",
            "        Load a model given a filepath and return a model object.\n",
            "    \n",
            "    read_args(arg_list, arg_dict, arg_names, default_values)\n",
            "    \n",
            "    skipgram(*kargs, **kwargs)\n",
            "    \n",
            "    supervised(*kargs, **kwargs)\n",
            "    \n",
            "    tokenize(text)\n",
            "        Given a string of text, tokenize it and return a list of tokens\n",
            "    \n",
            "    train_supervised(*kargs, **kwargs)\n",
            "        Train a supervised model and return a model object.\n",
            "        \n",
            "        input must be a filepath. The input text does not need to be tokenized\n",
            "        as per the tokenize function, but it must be preprocessed and encoded\n",
            "        as UTF-8. You might want to consult standard preprocessing scripts such\n",
            "        as tokenizer.perl mentioned here: http://www.statmt.org/wmt07/baseline.html\n",
            "        \n",
            "        The input file must must contain at least one label per line. For an\n",
            "        example consult the example datasets which are part of the fastText\n",
            "        repository such as the dataset pulled by classification-example.sh.\n",
            "    \n",
            "    train_unsupervised(*kargs, **kwargs)\n",
            "        Train an unsupervised model and return a model object.\n",
            "        \n",
            "        input must be a filepath. The input text does not need to be tokenized\n",
            "        as per the tokenize function, but it must be preprocessed and encoded\n",
            "        as UTF-8. You might want to consult standard preprocessing scripts such\n",
            "        as tokenizer.perl mentioned here: http://www.statmt.org/wmt07/baseline.html\n",
            "        \n",
            "        The input field must not contain any labels or use the specified label prefix\n",
            "        unless it is ok for those words to be ignored. For an example consult the\n",
            "        dataset pulled by the example script word-vector-example.sh, which is\n",
            "        part of the fastText repository.\n",
            "\n",
            "DATA\n",
            "    BOW = '<'\n",
            "    EOS = '</s>'\n",
            "    EOW = '>'\n",
            "    absolute_import = _Feature((2, 5, 0, 'alpha', 1), (3, 0, 0, 'alpha', 0...\n",
            "    displayed_errors = {}\n",
            "    division = _Feature((2, 2, 0, 'alpha', 2), (3, 0, 0, 'alpha', 0), 8192...\n",
            "    print_function = _Feature((2, 6, 0, 'alpha', 2), (3, 0, 0, 'alpha', 0)...\n",
            "    unicode_literals = _Feature((2, 6, 0, 'alpha', 2), (3, 0, 0, 'alpha', ...\n",
            "    unsupervised_default = {'autotuneDuration': 300, 'autotuneMetric': 'f1...\n",
            "\n",
            "FILE\n",
            "    /usr/local/lib/python3.7/dist-packages/fasttext/FastText.py\n",
            "\n",
            "\n"
          ],
          "name": "stdout"
        }
      ]
    },
    {
      "cell_type": "markdown",
      "metadata": {
        "id": "PrJ-3GoDgya6"
      },
      "source": [
        "Fasttextのチュートリアルに従って、cooking.stackexchangeのデータを読み込む（英文です\n",
        "）\n",
        "日本語と異なり、英文は分析がシンプルです。\n"
      ]
    },
    {
      "cell_type": "code",
      "metadata": {
        "id": "cLsl1MDNkh5q",
        "colab": {
          "base_uri": "https://localhost:8080/"
        },
        "outputId": "0d7cde59-7b26-4a54-fee3-0b5f448d85e5"
      },
      "source": [
        "!wget https://dl.fbaipublicfiles.com/fasttext/data/cooking.stackexchange.tar.gz && tar xvzf cooking.stackexchange.tar.gz\n",
        "!head cooking.stackexchange.txt"
      ],
      "execution_count": 3,
      "outputs": [
        {
          "output_type": "stream",
          "text": [
            "--2021-07-05 13:24:20--  https://dl.fbaipublicfiles.com/fasttext/data/cooking.stackexchange.tar.gz\n",
            "Resolving dl.fbaipublicfiles.com (dl.fbaipublicfiles.com)... 172.67.9.4, 104.22.74.142, 104.22.75.142, ...\n",
            "Connecting to dl.fbaipublicfiles.com (dl.fbaipublicfiles.com)|172.67.9.4|:443... connected.\n",
            "HTTP request sent, awaiting response... 200 OK\n",
            "Length: 457609 (447K) [application/x-tar]\n",
            "Saving to: ‘cooking.stackexchange.tar.gz’\n",
            "\n",
            "cooking.stackexchan 100%[===================>] 446.88K   648KB/s    in 0.7s    \n",
            "\n",
            "2021-07-05 13:24:21 (648 KB/s) - ‘cooking.stackexchange.tar.gz’ saved [457609/457609]\n",
            "\n",
            "cooking.stackexchange.id\n",
            "cooking.stackexchange.txt\n",
            "readme.txt\n",
            "__label__sauce __label__cheese How much does potato starch affect a cheese sauce recipe?\n",
            "__label__food-safety __label__acidity Dangerous pathogens capable of growing in acidic environments\n",
            "__label__cast-iron __label__stove How do I cover up the white spots on my cast iron stove?\n",
            "__label__restaurant Michelin Three Star Restaurant; but if the chef is not there\n",
            "__label__knife-skills __label__dicing Without knife skills, how can I quickly and accurately dice vegetables?\n",
            "__label__storage-method __label__equipment __label__bread What's the purpose of a bread box?\n",
            "__label__baking __label__food-safety __label__substitutions __label__peanuts how to seperate peanut oil from roasted peanuts at home?\n",
            "__label__chocolate American equivalent for British chocolate terms\n",
            "__label__baking __label__oven __label__convection Fan bake vs bake\n",
            "__label__sauce __label__storage-lifetime __label__acidity __label__mayonnaise Regulation and balancing of readymade packed mayonnaise and other sauces\n"
          ],
          "name": "stdout"
        }
      ]
    },
    {
      "cell_type": "code",
      "metadata": {
        "id": "c1P7vCDbknQD",
        "colab": {
          "base_uri": "https://localhost:8080/"
        },
        "outputId": "35460d14-f0e5-42c7-ede0-5f25523bbf5d"
      },
      "source": [
        "!wc cooking.stackexchange.txt"
      ],
      "execution_count": 4,
      "outputs": [
        {
          "output_type": "stream",
          "text": [
            "  15404  169582 1401900 cooking.stackexchange.txt\n"
          ],
          "name": "stdout"
        }
      ]
    },
    {
      "cell_type": "markdown",
      "metadata": {
        "id": "7iYHHL6zlGxi"
      },
      "source": [
        "datasetは 15404 examplesから構成されます。 これを12404 examplesのtraining setと 3000 examplesのvalidation setに分割します。\n"
      ]
    },
    {
      "cell_type": "code",
      "metadata": {
        "id": "zNsjowitlElq"
      },
      "source": [
        "!head -n 12404 cooking.stackexchange.txt > cooking.train\n",
        "!tail -n 3000 cooking.stackexchange.txt > cooking.valid"
      ],
      "execution_count": 5,
      "outputs": []
    },
    {
      "cell_type": "markdown",
      "metadata": {
        "id": "u_Ez624imt-W"
      },
      "source": [
        "単純なclassifierを作成：label付きなので、train_supervised を使用します。labelがないときは、train_unsupervisedを使います。"
      ]
    },
    {
      "cell_type": "code",
      "metadata": {
        "id": "JDHFJsGPligs"
      },
      "source": [
        "model = fasttext.train_supervised(input=\"cooking.train\")"
      ],
      "execution_count": 6,
      "outputs": []
    },
    {
      "cell_type": "code",
      "metadata": {
        "id": "spAD77cXnC6e"
      },
      "source": [
        "model.save_model(\"model_cooking.bin\")"
      ],
      "execution_count": 7,
      "outputs": []
    },
    {
      "cell_type": "markdown",
      "metadata": {
        "id": "2De4jnemhpKG"
      },
      "source": [
        "モデルを検証します\n"
      ]
    },
    {
      "cell_type": "code",
      "metadata": {
        "id": "7WFz7xnllpGY",
        "colab": {
          "base_uri": "https://localhost:8080/"
        },
        "outputId": "a74887d5-0a80-4b3b-f10f-eb66758e8aac"
      },
      "source": [
        "model.predict(\"Which baking dish is best to bake a banana bread ?\")"
      ],
      "execution_count": 8,
      "outputs": [
        {
          "output_type": "execute_result",
          "data": {
            "text/plain": [
              "(('__label__baking',), array([0.07257967]))"
            ]
          },
          "metadata": {
            "tags": []
          },
          "execution_count": 8
        }
      ]
    },
    {
      "cell_type": "code",
      "metadata": {
        "id": "ML_alfqJl-h0",
        "colab": {
          "base_uri": "https://localhost:8080/"
        },
        "outputId": "39b88d04-8174-4062-c47b-6a3335c0208e"
      },
      "source": [
        "model.predict(\"Why not put knives in the dishwasher?\", k=5)"
      ],
      "execution_count": 9,
      "outputs": [
        {
          "output_type": "execute_result",
          "data": {
            "text/plain": [
              "(('__label__food-safety',\n",
              "  '__label__baking',\n",
              "  '__label__bread',\n",
              "  '__label__substitutions',\n",
              "  '__label__equipment'),\n",
              " array([0.07451777, 0.07366108, 0.04390582, 0.0373    , 0.03408055]))"
            ]
          },
          "metadata": {
            "tags": []
          },
          "execution_count": 9
        }
      ]
    },
    {
      "cell_type": "code",
      "metadata": {
        "id": "iGoafFD1ng5e",
        "colab": {
          "base_uri": "https://localhost:8080/"
        },
        "outputId": "2ba2a972-5313-4c22-e54d-69b216a11e89"
      },
      "source": [
        "model.test(\"cooking.valid\")"
      ],
      "execution_count": 10,
      "outputs": [
        {
          "output_type": "execute_result",
          "data": {
            "text/plain": [
              "(3000, 0.135, 0.05838258613233386)"
            ]
          },
          "metadata": {
            "tags": []
          },
          "execution_count": 10
        }
      ]
    },
    {
      "cell_type": "markdown",
      "metadata": {
        "id": "lhqzZarHhtSU"
      },
      "source": [
        "少し複雑なclassifierを作成"
      ]
    },
    {
      "cell_type": "code",
      "metadata": {
        "id": "mNWlb1d4pU4M",
        "colab": {
          "base_uri": "https://localhost:8080/"
        },
        "outputId": "c7931756-fe6c-4b43-b7fd-22445f197fc6"
      },
      "source": [
        "model = fasttext.train_supervised(input=\"cooking.train\", lr=0.5, epoch=25, wordNgrams=2, bucket=200000, dim=50, loss='ova')\n",
        "model.predict(\"Which baking dish is best to bake a banana bread ?\", k=-1, threshold=0.5)"
      ],
      "execution_count": 11,
      "outputs": [
        {
          "output_type": "execute_result",
          "data": {
            "text/plain": [
              "(('__label__baking', '__label__bananas', '__label__bread'),\n",
              " array([1.00001001, 0.9450047 , 0.65842754]))"
            ]
          },
          "metadata": {
            "tags": []
          },
          "execution_count": 11
        }
      ]
    },
    {
      "cell_type": "markdown",
      "metadata": {
        "id": "NuC-hPCLXZrl"
      },
      "source": [
        "Word representations"
      ]
    },
    {
      "cell_type": "markdown",
      "metadata": {
        "id": "cgq0sdjpSrPd"
      },
      "source": [
        "English Wikipediaの一部を使用します。データをMatt Mahoney's websiteからダウンロードします。"
      ]
    },
    {
      "cell_type": "code",
      "metadata": {
        "id": "rs22qZmhSZuB",
        "colab": {
          "base_uri": "https://localhost:8080/"
        },
        "outputId": "4beb4dce-6709-4efe-caed-0a9aef8a8dd1"
      },
      "source": [
        "!cd fastText/\n",
        "!mkdir data\n",
        "!wget -c http://mattmahoney.net/dc/enwik9.zip -P data\n",
        "!unzip data/enwik9.zip -d data"
      ],
      "execution_count": 12,
      "outputs": [
        {
          "output_type": "stream",
          "text": [
            "--2021-07-05 13:25:08--  http://mattmahoney.net/dc/enwik9.zip\n",
            "Resolving mattmahoney.net (mattmahoney.net)... 67.195.197.24\n",
            "Connecting to mattmahoney.net (mattmahoney.net)|67.195.197.24|:80... connected.\n",
            "HTTP request sent, awaiting response... 200 OK\n",
            "Length: 322592222 (308M) [application/zip]\n",
            "Saving to: ‘data/enwik9.zip’\n",
            "\n",
            "enwik9.zip          100%[===================>] 307.65M   752KB/s    in 7m 5s   \n",
            "\n",
            "2021-07-05 13:32:14 (741 KB/s) - ‘data/enwik9.zip’ saved [322592222/322592222]\n",
            "\n",
            "Archive:  data/enwik9.zip\n",
            "  inflating: data/enwik9             \n"
          ],
          "name": "stdout"
        }
      ]
    },
    {
      "cell_type": "code",
      "metadata": {
        "id": "rpeVVXYVS7Fb",
        "colab": {
          "base_uri": "https://localhost:8080/"
        },
        "outputId": "11670b6b-07f9-4ef3-eea7-5878b2aa7ce2"
      },
      "source": [
        "!perl fastText/wikifil.pl data/enwik9 > data/fil9\n",
        "!ls\n",
        "!head -c 80 data/fil9"
      ],
      "execution_count": 13,
      "outputs": [
        {
          "output_type": "stream",
          "text": [
            "cooking.stackexchange.id      cooking.train  fastText\t\tsample_data\n",
            "cooking.stackexchange.tar.gz  cooking.valid  model_cooking.bin\n",
            "cooking.stackexchange.txt     data\t     readme.txt\n",
            " anarchism originated as a term of abuse first used against early working class "
          ],
          "name": "stdout"
        }
      ]
    },
    {
      "cell_type": "markdown",
      "metadata": {
        "id": "s7eDDkSE-UKm"
      },
      "source": [
        "Python API の fasttext.train_unsupervised が正常に作動しないようです。理由はわかりません。Commandline を用いた方が無難です。\n"
      ]
    },
    {
      "cell_type": "markdown",
      "metadata": {
        "id": "GUyxskqVVrIa"
      },
      "source": [
        "fastText の　makeコマンドが有効ではないので、以下の !./fasttext コマンドラインを用いた処理の多くはこのColabでは実行できません。ダウンロードして、各自のPCで利用ください。"
      ]
    },
    {
      "cell_type": "code",
      "metadata": {
        "id": "GstfInWqTPZa",
        "colab": {
          "base_uri": "https://localhost:8080/"
        },
        "outputId": "f7860cfd-a662-49a9-c9c2-5e3614527e36"
      },
      "source": [
        "! mkdir result\n",
        "! ./fasttext skipgram -input data/fil9 -output result/fil9\n"
      ],
      "execution_count": 14,
      "outputs": [
        {
          "output_type": "stream",
          "text": [
            "/bin/bash: ./fasttext: No such file or directory\n"
          ],
          "name": "stdout"
        }
      ]
    },
    {
      "cell_type": "code",
      "metadata": {
        "id": "cpNg43XTTWYP",
        "colab": {
          "base_uri": "https://localhost:8080/"
        },
        "outputId": "c970417e-96c7-439f-df7d-227b5b4cc1ef"
      },
      "source": [
        "! ls -l result\n"
      ],
      "execution_count": 15,
      "outputs": [
        {
          "output_type": "stream",
          "text": [
            "total 0\n"
          ],
          "name": "stdout"
        }
      ]
    },
    {
      "cell_type": "code",
      "metadata": {
        "id": "DXyl-pREU_5I",
        "colab": {
          "base_uri": "https://localhost:8080/"
        },
        "outputId": "abefa7f9-fb66-471a-987a-d3b33c919d85"
      },
      "source": [
        "! head -n 4 result/fil9.vec\n"
      ],
      "execution_count": 16,
      "outputs": [
        {
          "output_type": "stream",
          "text": [
            "head: cannot open 'result/fil9.vec' for reading: No such file or directory\n"
          ],
          "name": "stdout"
        }
      ]
    },
    {
      "cell_type": "code",
      "metadata": {
        "id": "XfYoa7aJVvSr",
        "colab": {
          "base_uri": "https://localhost:8080/"
        },
        "outputId": "fd07624b-8d2e-46b3-99e4-04c5cd5f402e"
      },
      "source": [
        "! echo \"asparagus pidgey yellow\" | ./fasttext print-word-vectors result/fil9.bin\n"
      ],
      "execution_count": 17,
      "outputs": [
        {
          "output_type": "stream",
          "text": [
            "/bin/bash: ./fasttext: No such file or directory\n"
          ],
          "name": "stdout"
        }
      ]
    },
    {
      "cell_type": "code",
      "metadata": {
        "id": "jsKe1ZcoV-GY",
        "colab": {
          "base_uri": "https://localhost:8080/"
        },
        "outputId": "61f072fb-27b1-4b3b-ce35-8e1acd23a7f4"
      },
      "source": [
        "!./fasttext nn result/fil9.bin\n",
        "\n",
        "Query word?"
      ],
      "execution_count": 18,
      "outputs": [
        {
          "output_type": "stream",
          "text": [
            "/bin/bash: ./fasttext: No such file or directory\n",
            "Object `word` not found.\n"
          ],
          "name": "stdout"
        }
      ]
    },
    {
      "cell_type": "markdown",
      "metadata": {
        "id": "DUf6sXnhWZg_"
      },
      "source": [
        "Word analogies"
      ]
    },
    {
      "cell_type": "code",
      "metadata": {
        "id": "N5sPl5ZZ409E",
        "colab": {
          "base_uri": "https://localhost:8080/",
          "height": 134
        },
        "outputId": "386faefe-d3a3-4d29-bcb4-2b225cf04f05"
      },
      "source": [
        "!./fasttext analogies result/fil9.bin\n",
        "\n",
        "Query triplet (A - B + C)? berlin germany france\n"
      ],
      "execution_count": 19,
      "outputs": [
        {
          "output_type": "error",
          "ename": "SyntaxError",
          "evalue": "ignored",
          "traceback": [
            "\u001b[0;36m  File \u001b[0;32m\"<ipython-input-19-2189e82d4113>\"\u001b[0;36m, line \u001b[0;32m3\u001b[0m\n\u001b[0;31m    Query triplet (A - B + C)? berlin germany france\u001b[0m\n\u001b[0m                ^\u001b[0m\n\u001b[0;31mSyntaxError\u001b[0m\u001b[0;31m:\u001b[0m invalid syntax\n"
          ]
        }
      ]
    },
    {
      "cell_type": "markdown",
      "metadata": {
        "id": "Leu6z2jPgDdD"
      },
      "source": [
        "Mecabのインストール\n"
      ]
    },
    {
      "cell_type": "code",
      "metadata": {
        "id": "u76ewinykLfe",
        "colab": {
          "base_uri": "https://localhost:8080/"
        },
        "outputId": "c52fcce8-f920-4d45-e47b-4709ebc6d721"
      },
      "source": [
        "!apt-get -q -y install sudo file mecab libmecab-dev mecab-ipadic-utf8 git curl python-mecab > /dev/null\n",
        "!git clone --depth 1 https://github.com/neologd/mecab-ipadic-neologd.git > /dev/null \n",
        "!echo yes | mecab-ipadic-neologd/bin/install-mecab-ipadic-neologd -n > /dev/null 2>&1\n",
        "!pip install mecab-python3 > /dev/null"
      ],
      "execution_count": 20,
      "outputs": [
        {
          "output_type": "stream",
          "text": [
            "Cloning into 'mecab-ipadic-neologd'...\n",
            "remote: Enumerating objects: 75, done.\u001b[K\n",
            "remote: Counting objects: 100% (75/75), done.\u001b[K\n",
            "remote: Compressing objects: 100% (74/74), done.\u001b[K\n",
            "remote: Total 75 (delta 5), reused 54 (delta 0), pack-reused 0\u001b[K\n",
            "Unpacking objects: 100% (75/75), done.\n"
          ],
          "name": "stdout"
        }
      ]
    },
    {
      "cell_type": "markdown",
      "metadata": {
        "id": "W01Jgjmmcr4i"
      },
      "source": [
        "日本語wikiの文書ファイルを使用する。\n",
        "\n",
        "単語の分散表現を学習させる際、Wikipedia 全体のサイズが必要ないときに使われるコーパスとして text8 があります。 text8 は、Wikipedia に対してクリーニング等の処理をした後、100MB分切り出して作成されています。 text8 は前処理済みで簡単に使えるので、チュートリアル等でよく利用されています。日本語バージョンのtext8コーパスをダウンロードします。"
      ]
    },
    {
      "cell_type": "code",
      "metadata": {
        "id": "Y5up89eJWHRQ",
        "colab": {
          "base_uri": "https://localhost:8080/"
        },
        "outputId": "83bcdd65-bbe0-41f8-c1bb-41bcca2a6383"
      },
      "source": [
        "!wget -c https://s3-ap-northeast-1.amazonaws.com/dev.tech-sketch.jp/chakki/public/ja.text8.zip -P data"
      ],
      "execution_count": 21,
      "outputs": [
        {
          "output_type": "stream",
          "text": [
            "--2021-07-05 13:36:34--  https://s3-ap-northeast-1.amazonaws.com/dev.tech-sketch.jp/chakki/public/ja.text8.zip\n",
            "Resolving s3-ap-northeast-1.amazonaws.com (s3-ap-northeast-1.amazonaws.com)... 52.219.136.220\n",
            "Connecting to s3-ap-northeast-1.amazonaws.com (s3-ap-northeast-1.amazonaws.com)|52.219.136.220|:443... connected.\n",
            "HTTP request sent, awaiting response... 200 OK\n",
            "Length: 33905114 (32M) [application/zip]\n",
            "Saving to: ‘data/ja.text8.zip’\n",
            "\n",
            "ja.text8.zip        100%[===================>]  32.33M  7.52MB/s    in 4.3s    \n",
            "\n",
            "2021-07-05 13:36:40 (7.52 MB/s) - ‘data/ja.text8.zip’ saved [33905114/33905114]\n",
            "\n"
          ],
          "name": "stdout"
        }
      ]
    },
    {
      "cell_type": "code",
      "metadata": {
        "id": "1MwgBmJY_tuz",
        "colab": {
          "base_uri": "https://localhost:8080/"
        },
        "outputId": "0f88a25d-9eb9-44e8-bb93-e07f6a5ff74a"
      },
      "source": [
        "!./fasttext skipgram -input data/ja.text8 -output result/ja.text8_model"
      ],
      "execution_count": 22,
      "outputs": [
        {
          "output_type": "stream",
          "text": [
            "/bin/bash: ./fasttext: No such file or directory\n"
          ],
          "name": "stdout"
        }
      ]
    },
    {
      "cell_type": "code",
      "metadata": {
        "id": "ZLmLXQ6XAfGf",
        "colab": {
          "base_uri": "https://localhost:8080/"
        },
        "outputId": "778150cb-1ff7-4f7d-c6f2-55d452295be5"
      },
      "source": [
        "! head -n 4 result/fil9.vec"
      ],
      "execution_count": 23,
      "outputs": [
        {
          "output_type": "stream",
          "text": [
            "head: cannot open 'result/fil9.vec' for reading: No such file or directory\n"
          ],
          "name": "stdout"
        }
      ]
    },
    {
      "cell_type": "code",
      "metadata": {
        "id": "nPmdFlwHAk6U",
        "colab": {
          "base_uri": "https://localhost:8080/",
          "height": 134
        },
        "outputId": "29a78efa-32e9-4718-a0c1-62bc57c5a72a"
      },
      "source": [
        "!./fasttext nn ~/NLP/corpora/ja.text8_model.bin\n",
        "\n",
        "Query word? 利根川"
      ],
      "execution_count": 24,
      "outputs": [
        {
          "output_type": "error",
          "ename": "SyntaxError",
          "evalue": "ignored",
          "traceback": [
            "\u001b[0;36m  File \u001b[0;32m\"<ipython-input-24-10b27677b1aa>\"\u001b[0;36m, line \u001b[0;32m3\u001b[0m\n\u001b[0;31m    Query word? 利根川\u001b[0m\n\u001b[0m             ^\u001b[0m\n\u001b[0;31mSyntaxError\u001b[0m\u001b[0;31m:\u001b[0m invalid syntax\n"
          ]
        }
      ]
    },
    {
      "cell_type": "markdown",
      "metadata": {
        "id": "hrI7PSVbAxEt"
      },
      "source": [
        "元荒川 0.844393\n",
        "鳴瀬川 0.832339\n",
        "綾瀬川 0.830789\n",
        "常盤川 0.807554\n",
        "永野川 0.807308\n",
        "狩野川 0.807213\n",
        "用水路 0.80265\n",
        "吉野川 0.798709\n",
        "品井沼 0.795811\n",
        "大野川 0.792659\n"
      ]
    },
    {
      "cell_type": "markdown",
      "metadata": {
        "id": "34mloNVeA8-r"
      },
      "source": [
        "以上"
      ]
    }
  ]
}