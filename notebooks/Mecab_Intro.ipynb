{
  "nbformat": 4,
  "nbformat_minor": 0,
  "metadata": {
    "colab": {
      "name": "Mecab_Intro.ipynb",
      "provenance": [],
      "collapsed_sections": [],
      "include_colab_link": true
    },
    "kernelspec": {
      "name": "python3",
      "display_name": "Python 3"
    }
  },
  "cells": [
    {
      "cell_type": "markdown",
      "metadata": {
        "id": "view-in-github",
        "colab_type": "text"
      },
      "source": [
        "<a href=\"https://colab.research.google.com/github/ykato27/NLP-Mecab/blob/main/Mecab_Intro.ipynb\" target=\"_parent\"><img src=\"https://colab.research.google.com/assets/colab-badge.svg\" alt=\"Open In Colab\"/></a>"
      ]
    },
    {
      "cell_type": "markdown",
      "metadata": {
        "id": "WDweL8LYlF25"
      },
      "source": [
        "#MeCab を用いた日本語処理の例\n",
        "\n",
        "Linux での　MeCabのインストール方法：例\n",
        "\n",
        "$git clone https://github.com/taku910/mecab.git or \n",
        "\n",
        "$sudo apt-get install libmecab1 libmecab-dev mecab mecab-ipadic mecab-ipadic-utf8 mecab-utils\n",
        "\n",
        "mecab-ipadic-NEologdもインストールします。 これはWeb上の新語をデフォルトの辞書に追加したものです。 必須ではありませんが便利なので入れておきます。\n",
        "\n",
        "$ git clone --depth 1 git@github.com:neologd/mecab-ipadic-neologd.git\n",
        "\n",
        "$ cd mecab-ipadic-neologd\n",
        "\n",
        "$ ./bin/install-mecab-ipadic-neologd -n\n",
        "\n",
        "次に、pipで　Pythonでmecab をしよするために、mecab-python3をインストールします。\n",
        "\n",
        "$ pip install mecab-python3\n"
      ]
    },
    {
      "cell_type": "markdown",
      "metadata": {
        "id": "QZsRxZSYeyNr"
      },
      "source": [
        "ここで、　Mecab 、ipadic-neologd および　mecab-python3 をインストールします。\n",
        "数分かかります\n",
        "\n",
        "　リダイレクト　> /dev/null/ を使用して、出力の表示を省略しています。"
      ]
    },
    {
      "cell_type": "code",
      "metadata": {
        "id": "u76ewinykLfe",
        "colab": {
          "base_uri": "https://localhost:8080/"
        },
        "outputId": "d99f05c7-f97b-4682-ac7b-ffcd35cddbaf"
      },
      "source": [
        "!apt-get -q -y install sudo file mecab libmecab-dev mecab-ipadic-utf8 git curl python-mecab > /dev/null\n",
        "!git clone --depth 1 https://github.com/neologd/mecab-ipadic-neologd.git > /dev/null \n",
        "!echo yes | mecab-ipadic-neologd/bin/install-mecab-ipadic-neologd -n > /dev/null 2>&1\n",
        "!pip install mecab-python3 > /dev/null"
      ],
      "execution_count": 1,
      "outputs": [
        {
          "output_type": "stream",
          "text": [
            "fatal: destination path 'mecab-ipadic-neologd' already exists and is not an empty directory.\n"
          ],
          "name": "stdout"
        }
      ]
    },
    {
      "cell_type": "code",
      "metadata": {
        "colab": {
          "base_uri": "https://localhost:8080/"
        },
        "id": "DJzfB0_Gx8Rw",
        "outputId": "82297ba3-787b-4753-83ba-2dd4d3f7805b"
      },
      "source": [
        "!ln -s /etc/mecabrc /usr/local/etc/mecabrc"
      ],
      "execution_count": 2,
      "outputs": [
        {
          "output_type": "stream",
          "text": [
            "ln: failed to create symbolic link '/usr/local/etc/mecabrc': File exists\n"
          ],
          "name": "stdout"
        }
      ]
    },
    {
      "cell_type": "code",
      "metadata": {
        "id": "vBfMvudNh_JP",
        "colab": {
          "base_uri": "https://localhost:8080/"
        },
        "outputId": "131c52a0-beaf-4ee8-caaa-a5412b2659fb"
      },
      "source": [
        "import MeCab\n",
        "sent =\"気温が上がるとどうしても比例するのが電力使用量だ。９日は、全国の電力会社のうち８社の管内で、いずれも最大電力使用量が今夏最高を記録した。\"\n",
        "tagger = MeCab.Tagger()\n",
        "print(tagger.parse(sent))"
      ],
      "execution_count": 3,
      "outputs": [
        {
          "output_type": "stream",
          "text": [
            "気温\t名詞,一般,*,*,*,*,気温,キオン,キオン\n",
            "が\t助詞,格助詞,一般,*,*,*,が,ガ,ガ\n",
            "上がる\t動詞,自立,*,*,五段・ラ行,基本形,上がる,アガル,アガル\n",
            "と\t助詞,接続助詞,*,*,*,*,と,ト,ト\n",
            "どうしても\t副詞,一般,*,*,*,*,どうしても,ドウシテモ,ドーシテモ\n",
            "比例\t名詞,サ変接続,*,*,*,*,比例,ヒレイ,ヒレイ\n",
            "する\t動詞,自立,*,*,サ変・スル,基本形,する,スル,スル\n",
            "の\t名詞,非自立,一般,*,*,*,の,ノ,ノ\n",
            "が\t助詞,格助詞,一般,*,*,*,が,ガ,ガ\n",
            "電力\t名詞,一般,*,*,*,*,電力,デンリョク,デンリョク\n",
            "使用\t名詞,サ変接続,*,*,*,*,使用,シヨウ,シヨー\n",
            "量\t名詞,接尾,一般,*,*,*,量,リョウ,リョウ\n",
            "だ\t助動詞,*,*,*,特殊・ダ,基本形,だ,ダ,ダ\n",
            "。\t記号,句点,*,*,*,*,。,。,。\n",
            "９\t名詞,数,*,*,*,*,９,キュウ,キュー\n",
            "日\t名詞,接尾,助数詞,*,*,*,日,ニチ,ニチ\n",
            "は\t助詞,係助詞,*,*,*,*,は,ハ,ワ\n",
            "、\t記号,読点,*,*,*,*,、,、,、\n",
            "全国\t名詞,一般,*,*,*,*,全国,ゼンコク,ゼンコク\n",
            "の\t助詞,連体化,*,*,*,*,の,ノ,ノ\n",
            "電力\t名詞,一般,*,*,*,*,電力,デンリョク,デンリョク\n",
            "会社\t名詞,一般,*,*,*,*,会社,カイシャ,カイシャ\n",
            "の\t助詞,連体化,*,*,*,*,の,ノ,ノ\n",
            "うち\t名詞,非自立,副詞可能,*,*,*,うち,ウチ,ウチ\n",
            "８\t名詞,数,*,*,*,*,８,ハチ,ハチ\n",
            "社\t名詞,接尾,助数詞,*,*,*,社,シャ,シャ\n",
            "の\t助詞,連体化,*,*,*,*,の,ノ,ノ\n",
            "管内\t名詞,一般,*,*,*,*,管内,カンナイ,カンナイ\n",
            "で\t助詞,格助詞,一般,*,*,*,で,デ,デ\n",
            "、\t記号,読点,*,*,*,*,、,、,、\n",
            "いずれ\t名詞,代名詞,一般,*,*,*,いずれ,イズレ,イズレ\n",
            "も\t助詞,係助詞,*,*,*,*,も,モ,モ\n",
            "最大\t名詞,一般,*,*,*,*,最大,サイダイ,サイダイ\n",
            "電力\t名詞,一般,*,*,*,*,電力,デンリョク,デンリョク\n",
            "使用\t名詞,サ変接続,*,*,*,*,使用,シヨウ,シヨー\n",
            "量\t名詞,接尾,一般,*,*,*,量,リョウ,リョウ\n",
            "が\t助詞,格助詞,一般,*,*,*,が,ガ,ガ\n",
            "今夏\t名詞,副詞可能,*,*,*,*,今夏,コンカ,コンカ\n",
            "最高\t名詞,一般,*,*,*,*,最高,サイコウ,サイコー\n",
            "を\t助詞,格助詞,一般,*,*,*,を,ヲ,ヲ\n",
            "記録\t名詞,サ変接続,*,*,*,*,記録,キロク,キロク\n",
            "し\t動詞,自立,*,*,サ変・スル,連用形,する,シ,シ\n",
            "た\t助動詞,*,*,*,特殊・タ,基本形,た,タ,タ\n",
            "。\t記号,句点,*,*,*,*,。,。,。\n",
            "EOS\n",
            "\n"
          ],
          "name": "stdout"
        }
      ]
    },
    {
      "cell_type": "markdown",
      "metadata": {
        "id": "T99EBmbZbDW6"
      },
      "source": [
        "Mecabの出力オプションに 'wakati' があります。このオプションで出力する分かち書きとは，上の例のように、詳細に品詞などの情報は必要なく， 単に文が形態素で区切られた形だけ欲しいという時に使えます。形態素が半角スペースで区切られた文が出力されます。トークン化されたテキストファイルが得られます。具体的には，実行時に”-Owakati”という出力形式のオプションを渡せばOKです"
      ]
    },
    {
      "cell_type": "code",
      "metadata": {
        "id": "GkMnipIGibLC",
        "colab": {
          "base_uri": "https://localhost:8080/"
        },
        "outputId": "d3997ebe-ab90-4ad7-f459-453e5a40f1eb"
      },
      "source": [
        "import MeCab\n",
        "\n",
        "\n",
        "text = 'アサヒ飲料は4月下旬から、凍る直前のマイナス5℃まで冷やした『三ツ矢サイダー』を提供する“氷点下自販機”を全国で展開中です。'\n",
        "tagger = MeCab.Tagger ('-Owakati')\n",
        "result = tagger.parse(text)\n",
        "print(result)"
      ],
      "execution_count": 4,
      "outputs": [
        {
          "output_type": "stream",
          "text": [
            "アサヒ 飲料 は 4 月 下旬 から 、 凍る 直前 の マイナス 5 ℃ まで 冷やし た 『 三ツ矢 サイダー 』 を 提供 する “ 氷点下 自販機 ” を 全国 で 展開 中 です 。 \n",
            "\n"
          ],
          "name": "stdout"
        }
      ]
    },
    {
      "cell_type": "markdown",
      "metadata": {
        "id": "K0a5TwFEWyLy"
      },
      "source": [
        "出力の形式をChaSenと同じにするために、オプションの'-Ochasen' を使用します。"
      ]
    },
    {
      "cell_type": "code",
      "metadata": {
        "id": "c_TKPFEVWfvy",
        "colab": {
          "base_uri": "https://localhost:8080/"
        },
        "outputId": "a6714423-3419-4de2-a35e-8515fb3b17ab"
      },
      "source": [
        "import MeCab\n",
        "mecab = MeCab.Tagger('-Ochasen')\n",
        "sentence =\"気温が上がるとどうしても比例するのが電力使用量だ。９日は、全国の電力会社のうち８社の管内で、いずれも最大電力使用量が今夏最高を記録した。\"\n",
        " \n",
        "node = mecab.parseToNode(sentence)\n",
        "node = node.next\n",
        "while node:\n",
        "    print (node.surface, node.feature)\n",
        "    node = node.next"
      ],
      "execution_count": 5,
      "outputs": [
        {
          "output_type": "stream",
          "text": [
            "気温 名詞,一般,*,*,*,*,気温,キオン,キオン\n",
            "が 助詞,格助詞,一般,*,*,*,が,ガ,ガ\n",
            "上がる 動詞,自立,*,*,五段・ラ行,基本形,上がる,アガル,アガル\n",
            "と 助詞,接続助詞,*,*,*,*,と,ト,ト\n",
            "どうしても 副詞,一般,*,*,*,*,どうしても,ドウシテモ,ドーシテモ\n",
            "比例 名詞,サ変接続,*,*,*,*,比例,ヒレイ,ヒレイ\n",
            "する 動詞,自立,*,*,サ変・スル,基本形,する,スル,スル\n",
            "の 名詞,非自立,一般,*,*,*,の,ノ,ノ\n",
            "が 助詞,格助詞,一般,*,*,*,が,ガ,ガ\n",
            "電力 名詞,一般,*,*,*,*,電力,デンリョク,デンリョク\n",
            "使用 名詞,サ変接続,*,*,*,*,使用,シヨウ,シヨー\n",
            "量 名詞,接尾,一般,*,*,*,量,リョウ,リョウ\n",
            "だ 助動詞,*,*,*,特殊・ダ,基本形,だ,ダ,ダ\n",
            "。 記号,句点,*,*,*,*,。,。,。\n",
            "９ 名詞,数,*,*,*,*,９,キュウ,キュー\n",
            "日 名詞,接尾,助数詞,*,*,*,日,ニチ,ニチ\n",
            "は 助詞,係助詞,*,*,*,*,は,ハ,ワ\n",
            "、 記号,読点,*,*,*,*,、,、,、\n",
            "全国 名詞,一般,*,*,*,*,全国,ゼンコク,ゼンコク\n",
            "の 助詞,連体化,*,*,*,*,の,ノ,ノ\n",
            "電力 名詞,一般,*,*,*,*,電力,デンリョク,デンリョク\n",
            "会社 名詞,一般,*,*,*,*,会社,カイシャ,カイシャ\n",
            "の 助詞,連体化,*,*,*,*,の,ノ,ノ\n",
            "うち 名詞,非自立,副詞可能,*,*,*,うち,ウチ,ウチ\n",
            "８ 名詞,数,*,*,*,*,８,ハチ,ハチ\n",
            "社 名詞,接尾,助数詞,*,*,*,社,シャ,シャ\n",
            "の 助詞,連体化,*,*,*,*,の,ノ,ノ\n",
            "管内 名詞,一般,*,*,*,*,管内,カンナイ,カンナイ\n",
            "で 助詞,格助詞,一般,*,*,*,で,デ,デ\n",
            "、 記号,読点,*,*,*,*,、,、,、\n",
            "いずれ 名詞,代名詞,一般,*,*,*,いずれ,イズレ,イズレ\n",
            "も 助詞,係助詞,*,*,*,*,も,モ,モ\n",
            "最大 名詞,一般,*,*,*,*,最大,サイダイ,サイダイ\n",
            "電力 名詞,一般,*,*,*,*,電力,デンリョク,デンリョク\n",
            "使用 名詞,サ変接続,*,*,*,*,使用,シヨウ,シヨー\n",
            "量 名詞,接尾,一般,*,*,*,量,リョウ,リョウ\n",
            "が 助詞,格助詞,一般,*,*,*,が,ガ,ガ\n",
            "今夏 名詞,副詞可能,*,*,*,*,今夏,コンカ,コンカ\n",
            "最高 名詞,一般,*,*,*,*,最高,サイコウ,サイコー\n",
            "を 助詞,格助詞,一般,*,*,*,を,ヲ,ヲ\n",
            "記録 名詞,サ変接続,*,*,*,*,記録,キロク,キロク\n",
            "し 動詞,自立,*,*,サ変・スル,連用形,する,シ,シ\n",
            "た 助動詞,*,*,*,特殊・タ,基本形,た,タ,タ\n",
            "。 記号,句点,*,*,*,*,。,。,。\n",
            " BOS/EOS,*,*,*,*,*,*,*,*\n"
          ],
          "name": "stdout"
        }
      ]
    },
    {
      "cell_type": "markdown",
      "metadata": {
        "id": "guuN9DV9pWoX"
      },
      "source": [
        "新語辞書　ipadic-neologd を使用した例\n"
      ]
    },
    {
      "cell_type": "markdown",
      "metadata": {
        "id": "EjZo5oxldaDj"
      },
      "source": [
        "mecab-ipadic-neologdが保存されているフォルダーを調べる。"
      ]
    },
    {
      "cell_type": "code",
      "metadata": {
        "id": "NcL0QdBEbIAq",
        "colab": {
          "base_uri": "https://localhost:8080/"
        },
        "outputId": "3c1d2f16-7bf4-482c-e442-1ae369f9eee7"
      },
      "source": [
        "!mecab-config --dicdir"
      ],
      "execution_count": 6,
      "outputs": [
        {
          "output_type": "stream",
          "text": [
            "/usr/lib/x86_64-linux-gnu/mecab/dic\n"
          ],
          "name": "stdout"
        }
      ]
    },
    {
      "cell_type": "markdown",
      "metadata": {
        "id": "v7bWbxP9mc1D"
      },
      "source": [
        "neologd辞書の指定を　'-d /usr/lib/x86_64-linux-gnu/mecab/dic/mecab-ipadic-neologd'　　とする\n",
        "\n",
        "\n"
      ]
    },
    {
      "cell_type": "code",
      "metadata": {
        "id": "rE3f8rUGtZ07",
        "colab": {
          "base_uri": "https://localhost:8080/"
        },
        "outputId": "8363d029-385d-411b-acac-25dfc0774d31"
      },
      "source": [
        "sentence =  \"SMAPのキムタクはポケモンに会いに行き、スマホを売るバイトをしている\"\n",
        "tagger = MeCab.Tagger('-d /usr/lib/x86_64-linux-gnu/mecab/dic/mecab-ipadic-neologd')\n",
        "print(tagger.parse(sentence))"
      ],
      "execution_count": 7,
      "outputs": [
        {
          "output_type": "stream",
          "text": [
            "SMAP\t名詞,固有名詞,一般,*,*,*,SMAP,スマップ,スマップ\n",
            "の\t助詞,連体化,*,*,*,*,の,ノ,ノ\n",
            "キムタク\t名詞,固有名詞,一般,*,*,*,キムタク,キムタク,キムタク\n",
            "は\t助詞,係助詞,*,*,*,*,は,ハ,ワ\n",
            "ポケモン\t名詞,固有名詞,一般,*,*,*,Pokemon!,ポケモン,ポケモン\n",
            "に\t助詞,格助詞,一般,*,*,*,に,ニ,ニ\n",
            "会い\t名詞,一般,*,*,*,*,会意,カイイ,カイー\n",
            "に\t助詞,格助詞,一般,*,*,*,に,ニ,ニ\n",
            "行き\t動詞,自立,*,*,五段・カ行促音便,連用形,行く,イキ,イキ\n",
            "、\t記号,読点,*,*,*,*,、,、,、\n",
            "スマホ\t名詞,固有名詞,一般,*,*,*,スマホ,スマホ,スマホ\n",
            "を\t助詞,格助詞,一般,*,*,*,を,ヲ,ヲ\n",
            "売る\t動詞,自立,*,*,五段・ラ行,基本形,売る,ウル,ウル\n",
            "バイト\t名詞,一般,*,*,*,*,バイト,バイト,バイト\n",
            "を\t助詞,格助詞,一般,*,*,*,を,ヲ,ヲ\n",
            "し\t動詞,自立,*,*,サ変・スル,連用形,する,シ,シ\n",
            "て\t助詞,接続助詞,*,*,*,*,て,テ,テ\n",
            "いる\t動詞,非自立,*,*,一段,基本形,いる,イル,イル\n",
            "EOS\n",
            "\n"
          ],
          "name": "stdout"
        }
      ]
    },
    {
      "cell_type": "markdown",
      "metadata": {
        "id": "tHmNNbN4Xv4M"
      },
      "source": [
        "青空文庫 から夏目漱石の 『こころ』 をダウンロードして、 kokoro.txt というテキストファイルで保存します。保存するディレクトリは'./corpora/'にしてください。コーディングがshift-jis形式なので、utf-8形式に変換して、最初の註釈の部分を削除しておいてください。以下のコードが実行用のスクリプトです。\n",
        "\n",
        "　MECAB_MODE = 'mecabrc' はMeCab のデフォルトの出力オプションです。node.feature部分のデータは「品詞,品詞細分類1,品詞細分類2,品詞細分類3,活用形,活用型,原形,読み,発音」の構造になっていて、”,”で区切られているテキストデータのため\",\"でsplitし、pos に配列として代入します。node.feature[0]なので、第１要素の品詞の具体名がposに入ります。\n",
        "\n",
        "このデータはわたしのGitHub にあるので、git clone します。"
      ]
    },
    {
      "cell_type": "code",
      "metadata": {
        "id": "Fd42zsR-YI1A",
        "colab": {
          "base_uri": "https://localhost:8080/"
        },
        "outputId": "3be60321-7afe-4602-c1c5-c1a2e98feb90"
      },
      "source": [
        "! git clone https://github.com/mashyko/NLP_Mecab\n",
        "%cd NLP_Mecab\n",
        "!ls "
      ],
      "execution_count": 8,
      "outputs": [
        {
          "output_type": "stream",
          "text": [
            "Cloning into 'NLP_Mecab'...\n",
            "remote: Enumerating objects: 157, done.\u001b[K\n",
            "remote: Counting objects: 100% (55/55), done.\u001b[K\n",
            "remote: Compressing objects: 100% (55/55), done.\u001b[K\n",
            "remote: Total 157 (delta 25), reused 0 (delta 0), pack-reused 102\u001b[K\n",
            "Receiving objects: 100% (157/157), 12.61 MiB | 17.86 MiB/s, done.\n",
            "Resolving deltas: 100% (66/66), done.\n",
            "/content/NLP_Mecab\n",
            "corpora\t\t      gensim_tutor_English.ipynb  mecab_janome_BOW.ipynb\n",
            "datasets\t      livedoor-news-data\t  Mecab_Neologd_livedoor.ipynb\n",
            "fasttext_intro.ipynb  Livedoor-text\t\t  mecab_python.ipynb\n",
            "Gensim_doc2vec.ipynb  MeCab_1.ipynb\t\t  README.md\n",
            "gensim_topic.ipynb    Mecab_Intro.ipynb\n"
          ],
          "name": "stdout"
        }
      ]
    },
    {
      "cell_type": "markdown",
      "metadata": {
        "id": "xt_ed3s8ZVKO"
      },
      "source": [
        "このセルを実行すると、名詞、動詞、形容詞として特定された単語が表示されます。"
      ]
    },
    {
      "cell_type": "code",
      "metadata": {
        "id": "AA6ITbQOYnP_",
        "colab": {
          "base_uri": "https://localhost:8080/"
        },
        "outputId": "e000d6aa-edae-4783-c854-ae41a10b594a"
      },
      "source": [
        "path = \"./corpora/kokoro.txt\"\n",
        "bindata = open(path, \"rb\").read()\n",
        "text = bindata.decode(\"utf-8\")\n",
        " \n",
        " \n",
        "import MeCab\n",
        " \n",
        "MECAB_MODE = 'mecabrc'                                                                                                                                                   \n",
        "tagger = MeCab.Tagger(MECAB_MODE)\n",
        "tagger.parse(\"\")\n",
        " \n",
        "node = tagger.parseToNode(text)\n",
        " \n",
        "words = []\n",
        "nouns = []\n",
        "verbs = []\n",
        "adjs = []\n",
        "while node:\n",
        "        pos = node.feature.split(\",\")[0]\n",
        "        word = node.surface\n",
        "        if pos == \"名詞\":\n",
        "            nouns.append(word)\n",
        "        elif pos == \"動詞\":\n",
        "            verbs.append(word)\n",
        "        elif pos == \"形容詞\":\n",
        "            adjs.append(word)\n",
        "        words.append(word)\n",
        "        node = node.next\n",
        "words_dict = {\n",
        "        \"text\": words[1:-1], # 最初と最後には空文字列が入るので除去                                                                                                \n",
        "        \"nouns\": nouns,\n",
        "        \"verbs\": verbs,\n",
        "        \"adjs\": adjs\n",
        "        }\n",
        " \n",
        "print (\"文: \\n\", words[:80])\n",
        "print (\"名詞: \\n\", nouns[:50])\n",
        "print (\"動詞: \\n\", verbs[:50])\n",
        "print (\"形容詞: \\n\", adjs[:50])"
      ],
      "execution_count": 9,
      "outputs": [
        {
          "output_type": "stream",
          "text": [
            "文: \n",
            " ['', 'こころ', '夏目', '漱石', '\\u3000', '私', '《', 'わたくし', '》', 'は', 'その', '人', 'を', '常に', '先生', 'と', '呼ん', 'で', 'い', 'た', '。', 'だから', 'ここ', 'でも', 'ただ', '先生', 'と', '書く', 'だけ', 'で', '本名', 'は', '打ち明け', 'ない', '。', 'これ', 'は', '世間', 'を', '憚', '《', 'は', 'ば', '》', 'かる', '遠慮', 'と', 'いう', 'より', 'も', '、', 'その', '方', 'が', '私', 'にとって', '自然', 'だ', 'から', 'で', 'ある', '。', '私', 'は', 'その', '人', 'の', '記憶', 'を', '呼び', '起す', 'ごと', 'に', '、', 'すぐ', '「', '先生', '」', 'と', 'いい']\n",
            "名詞: \n",
            " ['こころ', '夏目', '漱石', '私', 'わたくし', '人', '先生', 'ここ', '先生', '本名', 'これ', '世間', '憚', 'ば', '遠慮', '方', '私', '自然', '私', '人', '記憶', 'ごと', '先生', '筆', '心持', '事', '頭文字', 'かしら', '気', '私', '先生', '知り合い', 'の', '鎌倉', 'かまくら', '時', '私', '書生', '暑中', '休暇', '利用', '海水浴', '友達', '端書', 'はがき', '私', '金', '工面', '事', '私']\n",
            "動詞: \n",
            " ['呼ん', 'い', '書く', '打ち明け', 'いう', '呼び', '起す', 'いい', 'なる', '執', '使う', 'なら', 'なっ', 'し', '行っ', '来い', '受け取っ', 'くめ', 'し', '出掛ける', 'し', 'ち', '費やし', '着い', '呼び寄せ', '帰れ', '受け取っ', '断っ', 'あっ', '信じ', 'かね', 'いる', 'し', 'いら', 'れ', 'い', 'いう', 'する', '過ぎ', '気に入ら', '帰る', '避け', '遊ん', 'い', '見せ', 'しよ', 'し', '分ら', 'すれ', '帰る']\n",
            "形容詞: \n",
            " ['かる', 'よそよそしい', '若々しい', 'ない', 'ない', '若', 'いい', '固', 'よし', 'よい', 'ない', '長い', '近い', '古い', 'くす', '黒い', '黒い', 'ない', '白い', 'ぽ', 'く', '長い', '小高い', '珍しく', 'とお', '小さく', 'おも', 'ない', '騒がしい', '浅い', '深', 'く', '有難う', '広い', 'なかっ', '強い', '強い', '快く', '長く', 'ない', '悪く', '広い', 'くちく', '若い', '暗', '濃', '物足りない', 'よく', '若かっ', '若い']\n"
          ],
          "name": "stdout"
        }
      ]
    },
    {
      "cell_type": "markdown",
      "metadata": {
        "id": "CfXRjrv8aBad"
      },
      "source": [
        "Mecabの出力オプションに 'wakati' があります。このオプションで出力する分かち書きとは，上の例のように、詳細に品詞などの情報は必要なく， 単に文が形態素で区切られた形だけ欲しいという時に使えます。オプションに wakati を用いて、分かち書きを作成します。具体的には，実行時に”-Owakati”という出力形式のオプションを渡せばOKです。分かち書きしたファイルを作成・保存するときは、例えば、bocchan.txt の分かち書きファイルの場合、以下のコマンドを入力します。"
      ]
    },
    {
      "cell_type": "code",
      "metadata": {
        "id": "MsWxyqrQaQ3R"
      },
      "source": [
        "path = \"./corpora/bocchan.txt\"\n",
        "bindata = open(path, \"rb\").read()\n",
        "raw = bindata.decode(\"utf-8\")\n",
        " \n",
        "import MeCab\n",
        " \n",
        "tagger = MeCab.Tagger('-Owakati')\n",
        "tagger.parse(\"\")\n",
        " \n",
        "text = tagger.parse(raw)\n",
        " \n",
        "with open('./corpora/bocchan_wakati.txt', mode='w') as f:\n",
        "    f.write(text)"
      ],
      "execution_count": 10,
      "outputs": []
    },
    {
      "cell_type": "code",
      "metadata": {
        "id": "aaxGlVd2mEGt",
        "colab": {
          "base_uri": "https://localhost:8080/"
        },
        "outputId": "62a405ca-1207-424f-e7d0-fac32e7c0e3a"
      },
      "source": [
        "!ls ./corpora/"
      ],
      "execution_count": 11,
      "outputs": [
        {
          "output_type": "stream",
          "text": [
            "blog.txt  bocchan.txt  bocchan_wakati.txt  gingatetsudono_yoru.txt  kokoro.txt\n"
          ],
          "name": "stdout"
        }
      ]
    },
    {
      "cell_type": "markdown",
      "metadata": {
        "id": "JUONPEAIm2MJ"
      },
      "source": [
        "以上\n"
      ]
    }
  ]
}